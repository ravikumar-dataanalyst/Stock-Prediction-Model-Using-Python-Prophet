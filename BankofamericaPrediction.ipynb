{
 "cells": [
  {
   "cell_type": "markdown",
   "metadata": {},
   "source": [
    "# Bank of America Stock Prediction with Prophet $BAC 💰"
   ]
  },
  {
   "cell_type": "markdown",
   "metadata": {},
   "source": [
    "Install necessary packages/libraries: torch, transformers, pandas, numpy, yahoo finance, and any other required dependencies."
   ]
  },
  {
   "cell_type": "code",
   "execution_count": null,
   "metadata": {},
   "outputs": [],
   "source": [
    "pip install torch transformers pandas numpy"
   ]
  },
  {
   "cell_type": "code",
   "execution_count": null,
   "metadata": {},
   "outputs": [],
   "source": [
    "pip install yfinance"
   ]
  },
  {
   "cell_type": "code",
   "execution_count": null,
   "metadata": {},
   "outputs": [],
   "source": [
    "import pandas as pd\n",
    "import numpy as np\n",
    "import yfinance as yf\n",
    "from prophet import Prophet"
   ]
  },
  {
   "cell_type": "code",
   "execution_count": null,
   "metadata": {},
   "outputs": [],
   "source": [
    "# import historical data from yfinance stock ticker 'BAC'\n",
    "\n",
    "bac = yf.download('BAC', start='2020-01-01', end='2024-07-29')"
   ]
  },
  {
   "cell_type": "code",
   "execution_count": null,
   "metadata": {},
   "outputs": [],
   "source": [
    "#view columns\n",
    "print(bac.columns)"
   ]
  },
  {
   "cell_type": "code",
   "execution_count": null,
   "metadata": {},
   "outputs": [],
   "source": [
    "#view data types\n",
    "bac.dtypes"
   ]
  },
  {
   "cell_type": "code",
   "execution_count": null,
   "metadata": {},
   "outputs": [],
   "source": [
    "# This will move the index to a column since yfinance does not include a date column\n",
    "bac.reset_index(inplace=True) "
   ]
  },
  {
   "cell_type": "code",
   "execution_count": null,
   "metadata": {},
   "outputs": [],
   "source": [
    "#quick view of data\n",
    "print(bac.head())"
   ]
  },
  {
   "cell_type": "markdown",
   "metadata": {},
   "source": [
    "# prepare our data by turning our date and adj close columns into ds and y"
   ]
  },
  {
   "cell_type": "code",
   "execution_count": null,
   "metadata": {},
   "outputs": [],
   "source": [
    "bac['ds'] = pd.to_datetime(bac['Date'])\n",
    "bac['y'] = bac['Adj Close']"
   ]
  },
  {
   "cell_type": "code",
   "execution_count": null,
   "metadata": {},
   "outputs": [],
   "source": [
    "# Select and display only 'ds' and 'y' columns\n",
    "bac2 = bac[['ds', 'y']]\n",
    "print(bac2.head())"
   ]
  },
  {
   "cell_type": "code",
   "execution_count": null,
   "metadata": {},
   "outputs": [],
   "source": [
    "#verify changes\n",
    "bac2"
   ]
  },
  {
   "cell_type": "code",
   "execution_count": null,
   "metadata": {},
   "outputs": [],
   "source": [
    "bac"
   ]
  },
  {
   "cell_type": "markdown",
   "metadata": {},
   "source": [
    "# add stock indicators that would help with analysis like moving averages, trading volume, and technical indicators."
   ]
  },
  {
   "cell_type": "code",
   "execution_count": null,
   "metadata": {},
   "outputs": [],
   "source": [
    "bac['SMA_50'] = bac['Close'].rolling(window=50).mean()\n",
    "bac['SMA_200'] = bac['Close'].rolling(window=200).mean()\n",
    "bac['ma50'] = bac['Close'].rolling(window=50).mean()\n",
    "bac['ma200'] = bac['Close'].rolling(window=200).mean()\n",
    "bac['Volume'] = bac['Volume']\n",
    "bacind = bac.dropna()\n",
    "bacind"
   ]
  },
  {
   "cell_type": "code",
   "execution_count": null,
   "metadata": {},
   "outputs": [],
   "source": [
    "# Calculate Relative Strength Index (RSI)\n",
    "def RSI(series, period=14):\n",
    "    delta = series.diff(1)\n",
    "    gain = (delta.where(delta > 0, 0)).rolling(window=period).mean()\n",
    "    loss = (-delta.where(delta < 0, 0)).rolling(window=period).mean()\n",
    "    RS = gain / loss\n",
    "    return 100 - (100 / (1 + RS))"
   ]
  },
  {
   "cell_type": "code",
   "execution_count": null,
   "metadata": {},
   "outputs": [],
   "source": [
    "bac['rsi'] = RSI(bac['Close'])"
   ]
  },
  {
   "cell_type": "code",
   "execution_count": null,
   "metadata": {},
   "outputs": [],
   "source": [
    "# Calculate VWAP (Volume Weighted Average Price)\n",
    "def VWAP(bac):\n",
    "    q = bac['Volume']\n",
    "    p = bac['Close']\n",
    "    vwap = (p * q).cumsum() / q.cumsum()\n",
    "    return vwap"
   ]
  },
  {
   "cell_type": "code",
   "execution_count": null,
   "metadata": {},
   "outputs": [],
   "source": [
    "bac['vwap'] = VWAP(bac)\n"
   ]
  },
  {
   "cell_type": "code",
   "execution_count": null,
   "metadata": {},
   "outputs": [],
   "source": [
    "# Drop rows with NaN values created by rolling calculations\n",
    "bac.dropna(inplace=True)"
   ]
  },
  {
   "cell_type": "markdown",
   "metadata": {},
   "source": [
    "# Add Regressors and Fit the Prophet Model"
   ]
  },
  {
   "cell_type": "code",
   "execution_count": null,
   "metadata": {},
   "outputs": [],
   "source": [
    "# create the Prophet model\n",
    "bac_model = Prophet()"
   ]
  },
  {
   "cell_type": "code",
   "execution_count": null,
   "metadata": {},
   "outputs": [],
   "source": [
    "# Add additional indicators as regressors\n",
    "bac_model.add_regressor('SMA_50')\n",
    "bac_model.add_regressor('SMA_200')\n",
    "bac_model.add_regressor('ma50')\n",
    "bac_model.add_regressor('ma200')\n",
    "bac_model.add_regressor('rsi')\n",
    "bac_model.add_regressor('vwap')"
   ]
  },
  {
   "cell_type": "code",
   "execution_count": null,
   "metadata": {},
   "outputs": [],
   "source": [
    "#column check\n",
    "print(bac.columns)"
   ]
  },
  {
   "cell_type": "code",
   "execution_count": null,
   "metadata": {},
   "outputs": [],
   "source": [
    "bac.reset_index(drop=True, inplace=True)"
   ]
  },
  {
   "cell_type": "markdown",
   "metadata": {},
   "source": [
    "Fit the model"
   ]
  },
  {
   "cell_type": "code",
   "execution_count": null,
   "metadata": {},
   "outputs": [],
   "source": [
    "# fit the model\n",
    "bac_model.fit(bac[['ds', 'y', 'ma50', 'ma200', 'rsi', 'vwap', 'SMA_50', 'SMA_200']])"
   ]
  },
  {
   "cell_type": "code",
   "execution_count": null,
   "metadata": {},
   "outputs": [],
   "source": [
    "# Create a future dataframe for predictions\n",
    "bac_future = bac_model.make_future_dataframe(periods=365)"
   ]
  },
  {
   "cell_type": "markdown",
   "metadata": {},
   "source": [
    "To make predictions, you need future values of the indicators\n",
    "For this example, we assume that the future values are calculated similarly, and added to the future dataframe.\n",
    "Here you should add actual future values for the indicators"
   ]
  },
  {
   "cell_type": "code",
   "execution_count": null,
   "metadata": {},
   "outputs": [],
   "source": [
    "# Example (future values need to be calculated or assumed):\n",
    "bac_future['ma50'] = bac['ma50'].iloc[-1]\n",
    "bac_future['ma200'] = bac['ma200'].iloc[-1]\n",
    "bac_future['rsi'] = bac['rsi'].iloc[-1]\n",
    "bac_future['vwap'] = bac['vwap'].iloc[-1]\n",
    "bac_future['SMA_50'] = bac['SMA_50'].iloc[-1]\n",
    "bac_future['SMA_200'] = bac['SMA_200'].iloc[-1]"
   ]
  },
  {
   "cell_type": "code",
   "execution_count": null,
   "metadata": {},
   "outputs": [],
   "source": [
    "# Predict future values\n",
    "bac_forecast = bac_model.predict(bac_future)"
   ]
  },
  {
   "cell_type": "code",
   "execution_count": null,
   "metadata": {},
   "outputs": [],
   "source": [
    "# Plot the forecast\n",
    "bac_model.plot(bac_forecast)"
   ]
  },
  {
   "cell_type": "markdown",
   "metadata": {},
   "source": [
    "Reflecting on the above plot, the [black] points are the actual adjusted closing price, \n",
    "the [thin blue] lines are the models past price predictions, \n",
    "the [dark blue] is the future forcast, as we move further out, our model loses confidence in its accuracy"
   ]
  },
  {
   "cell_type": "markdown",
   "metadata": {},
   "source": [
    "create interactive plots"
   ]
  },
  {
   "cell_type": "code",
   "execution_count": null,
   "metadata": {},
   "outputs": [],
   "source": [
    "#import library\n",
    "import nbformat\n",
    "print(nbformat.__version__)"
   ]
  },
  {
   "cell_type": "code",
   "execution_count": null,
   "metadata": {},
   "outputs": [],
   "source": [
    "#chart an interactive plot\n",
    "from prophet.plot import plot_plotly, plot_components_plotly\n",
    "\n",
    "plot_plotly(bac_model, bac_forecast)"
   ]
  },
  {
   "cell_type": "markdown",
   "metadata": {},
   "source": [
    "Let's explore the chart above:\n",
    "* Our horizontal (`x`) axis is how many days into the future we're predicting. That's our **horizon**\n",
    "* Our vertical (`y`) axis is the **Mean Absolute Error** - the average error in our predictions in stock price.\n"
   ]
  },
  {
   "cell_type": "markdown",
   "metadata": {},
   "source": [
    "# Model evaluation"
   ]
  },
  {
   "cell_type": "markdown",
   "metadata": {},
   "source": [
    "Let's use the [Diagnostics](https://facebook.github.io/prophet/docs/diagnostics.html) library from `prophet` to validate our model using `cross_validation`."
   ]
  },
  {
   "cell_type": "code",
   "execution_count": null,
   "metadata": {},
   "outputs": [],
   "source": [
    "#import library\n",
    "from prophet.diagnostics import cross_validation"
   ]
  },
  {
   "cell_type": "markdown",
   "metadata": {},
   "source": [
    "Now **create a DataFrame that is the result of running `cross_validation` on our model, with a horizon of 180, 80 or 60 days! "
   ]
  },
  {
   "cell_type": "code",
   "execution_count": null,
   "metadata": {},
   "outputs": [],
   "source": [
    "bac_validation = cross_validation(bac_model, period='60 days', horizon='80 days')"
   ]
  },
  {
   "cell_type": "code",
   "execution_count": null,
   "metadata": {},
   "outputs": [],
   "source": [
    "bac_validation"
   ]
  },
  {
   "cell_type": "markdown",
   "metadata": {},
   "source": [
    "# Interpretation"
   ]
  },
  {
   "cell_type": "code",
   "execution_count": null,
   "metadata": {},
   "outputs": [],
   "source": [
    "bac_model.plot(bac_forecast);"
   ]
  },
  {
   "cell_type": "markdown",
   "metadata": {},
   "source": [
    "* We can see from the prediction `plot` that we have a point after which the model quickly starts to lose confidence.\n",
    "* We can also see the same from the errors - as we try to predict further into the future, our accuracy goes down.\n"
   ]
  },
  {
   "cell_type": "markdown",
   "metadata": {},
   "source": [
    "**Finally, let's visualize the errors** (differences) that between our model prediction and the seen reality. We will use the `mae` (Mean Absolute Error) as the metric. "
   ]
  },
  {
   "cell_type": "code",
   "execution_count": null,
   "metadata": {},
   "outputs": [],
   "source": [
    "from prophet.plot import plot_cross_validation_metric\n",
    "bac_2 = plot_cross_validation_metric(bac_validation, metric='mae')"
   ]
  },
  {
   "cell_type": "markdown",
   "metadata": {},
   "source": [
    "**Our best case interpretation:**\n",
    "\n",
    "We can see some clear highs and lows in our errors, which is not good. The main reason for that is that our data is `monthly` but we are doing our cross-validation `by day`. \n",
    "\n",
    "\n",
    "The **volatility** (waviness) or errors are fairly stable with some certainty. "
   ]
  }
 ],
 "metadata": {
  "kernelspec": {
   "display_name": "base",
   "language": "python",
   "name": "python3"
  },
  "language_info": {
   "codemirror_mode": {
    "name": "ipython",
    "version": 3
   },
   "file_extension": ".py",
   "mimetype": "text/x-python",
   "name": "python",
   "nbconvert_exporter": "python",
   "pygments_lexer": "ipython3",
   "version": "3.11.7"
  }
 },
 "nbformat": 4,
 "nbformat_minor": 2
}
